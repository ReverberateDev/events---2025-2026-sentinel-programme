{
 "cells": [
  {
   "cell_type": "markdown",
   "id": "daaa1a76",
   "metadata": {},
   "source": [
    "# 1. Pep Talk"
   ]
  },
  {
   "cell_type": "code",
   "execution_count": null,
   "id": "d6bfdef9",
   "metadata": {},
   "outputs": [],
   "source": [
    "import sys\n",
    "import os\n",
    "from math import pow\n",
    "\n",
    "\n",
    "def calc_sum(x, y):\n",
    "    return x + y\n",
    "\n",
    "\n",
    "def calc_product(x, y):\n",
    "    return x * y\n",
    "\n",
    "\n",
    "def calc_difference(x, y):\n",
    "    return x - y  # calculate difference\n",
    "\n",
    "\n",
    "def calc_quotient(x, y):\n",
    "    if y == 0:\n",
    "        print(\"Error: Cannot divide by zero.\")\n",
    "        return None\n",
    "    return x / y\n",
    "\n",
    "\n",
    "list_of_numbers = [1, 2, 3, 4, 5, 6, 7, 8, 9, 10]\n",
    "\n",
    "total_sum = calc_sum(list_of_numbers[0], list_of_numbers[1])\n",
    "print(\"Total Sum:\", total_sum)\n",
    "\n",
    "total_product = calc_product(list_of_numbers[2], list_of_numbers[3])\n",
    "print(\"Total Product:\", total_product)\n",
    "\n",
    "total_difference = calc_difference(list_of_numbers[4], list_of_numbers[5])\n",
    "print(\"Total Difference:\", total_difference)\n",
    "\n",
    "total_quotient = calc_quotient(list_of_numbers[6], list_of_numbers[7])\n",
    "print(\"Total Quotient:\", total_quotient)"
   ]
  },
  {
   "cell_type": "markdown",
   "id": "6403601a",
   "metadata": {},
   "source": [
    "# 3. It's Time"
   ]
  },
  {
   "cell_type": "code",
   "execution_count": 2,
   "id": "3eedaa94",
   "metadata": {},
   "outputs": [
    {
     "name": "stdout",
     "output_type": "stream",
     "text": [
      "Starting task 'goon'...\n",
      "Task 'goon' completed in 0.72 seconds.\n",
      "\n",
      "Starting task 'huh\\'...\n",
      "Task 'huh\\' completed in 2.24 seconds.\n",
      "\n",
      "Starting task ''...\n",
      "Task '' completed in 1.34 seconds.\n",
      "\n",
      "\n",
      "All tasks and their durations:\n",
      "goon: 0.72 seconds\n",
      "huh\\: 2.24 seconds\n",
      ": 1.34 seconds\n"
     ]
    }
   ],
   "source": [
    "import time\n",
    "\n",
    "def main():\n",
    "    tasks = {}\n",
    "\n",
    "    while True:\n",
    "        task_name = input(\"Enter the task name to start (or 'exit' to stop): \")\n",
    "        if task_name.lower() == \"exit\":\n",
    "            break\n",
    "        \n",
    "        print(f\"Starting task '{task_name}'...\")\n",
    "        start_time = time.time()\n",
    "        \n",
    "        input(\"Press Enter to stop the task... \")\n",
    "        \n",
    "        end_time = time.time()\n",
    "        duration = end_time - start_time\n",
    "        \n",
    "        print(f\"Task '{task_name}' completed in {duration:.2f} seconds.\\n\")\n",
    "        tasks[task_name] = duration\n",
    "\n",
    "    print(\"\\nAll tasks and their durations:\")\n",
    "    for name, duration in tasks.items():\n",
    "        print(f\"{name}: {duration:.2f} seconds\")\n",
    "\n",
    "if __name__ == \"__main__\":\n",
    "    main()"
   ]
  },
  {
   "cell_type": "markdown",
   "id": "90315c0a",
   "metadata": {},
   "source": [
    "# 2. One Liners Part 2"
   ]
  },
  {
   "cell_type": "code",
   "execution_count": null,
   "id": "ce9169da",
   "metadata": {},
   "outputs": [],
   "source": [
    "# Task 1: Uppercase Words\n",
    "words = [\"hello\", \"world\", \"python\", \"programming\"]\n",
    "uppercase_words = [word.upper() for word in words]\n",
    "print(uppercase_words)\n",
    "\n",
    "# Task 2: Word Lengths\n",
    "words = [\"list\", \"comprehensions\", \"are\", \"powerful\"]\n",
    "word_lengths = [len(word) for word in words]\n",
    "print(word_lengths)\n",
    "\n",
    "# Task 3: Exclude Vowels\n",
    "sample_string = \"Look at those flying geese!\"\n",
    "no_vowels_string = \"\".join([char for char in sample_string if char.lower() not in \"aeiou\"])\n",
    "print(no_vowels_string)\n",
    "\n",
    "# Task 4: Find Palindromes\n",
    "words = [\"radar\", \"python\", \"level\", \"world\", \"madam\"]\n",
    "palindromes = [word for word in words if word == word[::-1]]\n",
    "print(palindromes)\n",
    "\n",
    "# Task 5: Gimme Some Py\n",
    "strings = [\"python\", \"typography\", \"hyperloop\", \"Pythagoras\", \"apple\"]\n",
    "py_strings = [s for s in strings if \"py\" in s.lower()]\n",
    "print(py_strings)"
   ]
  },
  {
   "cell_type": "markdown",
   "id": "5cdb3309",
   "metadata": {},
   "source": [
    "# 3. One Liners Part 3"
   ]
  },
  {
   "cell_type": "code",
   "execution_count": 3,
   "id": "8961ce1f",
   "metadata": {},
   "outputs": [
    {
     "name": "stdout",
     "output_type": "stream",
     "text": [
      "{'hello': 2, 'world': 2}\n",
      "{1: 'a', 2: 'b', 3: 'c'}\n",
      "{1: 1, 2: 4, 3: 9, 4: 16, 5: 25, 6: 36, 7: 49, 8: 64, 9: 81, 10: 100}\n",
      "{'b': 15}\n",
      "{'a': 1, 'b': 2, 'c': 3}\n"
     ]
    }
   ],
   "source": [
    "# Task 1: Word Frequency Counter\n",
    "sentence = \"Hello world World hello\"\n",
    "words = sentence.lower().split()\n",
    "word_freq = {word: words.count(word) for word in set(words)}\n",
    "print(word_freq)\n",
    "\n",
    "# Task 2: Invert a Dictionary\n",
    "my_dict = {'a': 1, 'b': 2, 'c': 3}\n",
    "inverted_dict = {value: key for key, value in my_dict.items()}\n",
    "print(inverted_dict)\n",
    "\n",
    "# Task 3: Square Numbers Mapping\n",
    "squared_dict = {x: x**2 for x in range(1, 11)}\n",
    "print(squared_dict)\n",
    "\n",
    "# Task 4: Filter Dictionary by Value\n",
    "my_dict = {'a': 10, 'b': 15, 'c': 5}\n",
    "threshold = 10\n",
    "filtered_dict = {k: v for k, v in my_dict.items() if v > threshold}\n",
    "print(filtered_dict)\n",
    "\n",
    "# Task 5: Create a Dictionary from Two Lists\n",
    "keys = ['a', 'b', 'c']\n",
    "values = [1, 2, 3]\n",
    "combined_dict = {key: value for key, value in zip(keys, values)}\n",
    "print(combined_dict)"
   ]
  },
  {
   "cell_type": "markdown",
   "id": "033bdff3",
   "metadata": {},
   "source": [
    "# 1. Mappers"
   ]
  },
  {
   "cell_type": "code",
   "execution_count": null,
   "id": "0a6e1feb",
   "metadata": {},
   "outputs": [],
   "source": [
    "# Task 1\n",
    "numbers1 = [1, 2, 3]\n",
    "squares = list(map(lambda x: x**2, numbers1))\n",
    "print(squares)\n",
    "\n",
    "# Task 2\n",
    "numbers2 = [8, 24, 4]\n",
    "string_numbers = list(map(str, numbers2))\n",
    "print(string_numbers)\n",
    "\n",
    "# Task 3\n",
    "strings = [\"hello\", \"tom\", \"sentinal\", \"robert\"]\n",
    "no_t_strings = list(map(lambda s: s.replace(\"t\", \"\"), strings))\n",
    "print(no_t_strings)"
   ]
  },
  {
   "cell_type": "markdown",
   "id": "98b39c46",
   "metadata": {},
   "source": [
    "# 2. Tilting"
   ]
  },
  {
   "cell_type": "code",
   "execution_count": 4,
   "id": "c3cbba66",
   "metadata": {},
   "outputs": [
    {
     "name": "stdout",
     "output_type": "stream",
     "text": [
      "['Israel', 'France', 'England', 'Singapore']\n",
      "['United States', 'Canada', 'Mexico']\n"
     ]
    }
   ],
   "source": [
    "def titling(user_list):\n",
    "    return list(map(lambda s: s.title(), user_list))\n",
    "\n",
    "def main():\n",
    "    countries = ['ISRAEL', 'france', 'engLand', 'sinGAPore']\n",
    "    print(titling(countries))\n",
    "\n",
    "    another_list = ['uNiTeD sTaTeS', 'CaNaDa', 'mExIcO']\n",
    "    print(titling(another_list))\n",
    "\n",
    "if __name__ == \"__main__\":\n",
    "    main()"
   ]
  },
  {
   "cell_type": "markdown",
   "id": "49ffafe9",
   "metadata": {},
   "source": [
    "# 2. Business Class"
   ]
  },
  {
   "cell_type": "code",
   "execution_count": 5,
   "id": "e582c45c",
   "metadata": {},
   "outputs": [
    {
     "name": "stdout",
     "output_type": "stream",
     "text": [
      "78.5\n",
      "16\n",
      "12.0\n",
      "78.5\n",
      "16\n",
      "12.0\n"
     ]
    }
   ],
   "source": [
    "class Shape:\n",
    "    def area(self):\n",
    "        return 0\n",
    "\n",
    "class Circle(Shape):\n",
    "    def __init__(self, radius):\n",
    "        self.radius = radius\n",
    "\n",
    "    def area(self):\n",
    "        return 3.14 * self.radius ** 2\n",
    "\n",
    "class Square(Shape):\n",
    "    def __init__(self, side):\n",
    "        self.side = side\n",
    "\n",
    "    def area(self):\n",
    "        return self.side ** 2\n",
    "\n",
    "class Triangle(Shape):\n",
    "    def __init__(self, base, height):\n",
    "        self.base = base\n",
    "        self.height = height\n",
    "\n",
    "    def area(self):\n",
    "        return 0.5 * self.base * self.height\n",
    "\n",
    "def print_area(shape):\n",
    "    print(shape.area())\n",
    "\n",
    "# Example Usage\n",
    "circle = Circle(radius=5)\n",
    "print(circle.area())\n",
    "\n",
    "square = Square(side=4)\n",
    "print(square.area())\n",
    "\n",
    "triangle = Triangle(base=6, height=4)\n",
    "print(triangle.area())\n",
    "\n",
    "# Demonstrate your function\n",
    "print_area(circle)\n",
    "print_area(square)\n",
    "print_area(triangle)"
   ]
  },
  {
   "cell_type": "markdown",
   "id": "7c3e3b9e",
   "metadata": {},
   "source": [
    "# 3. First Class"
   ]
  },
  {
   "cell_type": "code",
   "execution_count": null,
   "id": "53a2b1e0",
   "metadata": {},
   "outputs": [],
   "source": [
    "class Item:\n",
    "    def __init__(self, name, price):\n",
    "        self.name = name\n",
    "        self.price = price\n",
    "\n",
    "class ShoppingCart:\n",
    "    def __init__(self):\n",
    "        self.items = []\n",
    "\n",
    "    def add_item(self, item):\n",
    "        self.items.append(item)\n",
    "\n",
    "    def remove_item(self, item_name):\n",
    "        for item in self.items:\n",
    "            if item.name == item_name:\n",
    "                self.items.remove(item)\n",
    "                break\n",
    "\n",
    "    def total_cost(self):\n",
    "        total = 0\n",
    "        for item in self.items:\n",
    "            total += item.price\n",
    "        return total\n",
    "\n",
    "# Example Usage\n",
    "cart = ShoppingCart()\n",
    "cart.add_item(Item(name=\"Milk\", price=3.50))\n",
    "cart.add_item(Item(name=\"Eggs\", price=2.00))\n",
    "cart.add_item(Item(name=\"Bread\", price=2.50))\n",
    "\n",
    "print(cart.total_cost())\n",
    "\n",
    "cart.remove_item(\"Eggs\")\n",
    "print(cart.total_cost())"
   ]
  },
  {
   "cell_type": "markdown",
   "id": "91eff300",
   "metadata": {},
   "source": [
    "# 1. Hello Sys Argv"
   ]
  },
  {
   "cell_type": "markdown",
   "id": "395f7227",
   "metadata": {},
   "source": [
    "# 2. Sum Calculator"
   ]
  }
 ],
 "metadata": {
  "kernelspec": {
   "display_name": "Python 3",
   "language": "python",
   "name": "python3"
  },
  "language_info": {
   "codemirror_mode": {
    "name": "ipython",
    "version": 3
   },
   "file_extension": ".py",
   "mimetype": "text/x-python",
   "name": "python",
   "nbconvert_exporter": "python",
   "pygments_lexer": "ipython3",
   "version": "3.13.4"
  }
 },
 "nbformat": 4,
 "nbformat_minor": 5
}
